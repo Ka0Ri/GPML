{
  "cells": [
    {
      "cell_type": "markdown",
      "metadata": {},
      "source": [
        "# New code"
      ]
    },
    {
      "cell_type": "code",
      "execution_count": null,
      "metadata": {},
      "outputs": [],
      "source": [
        "import numpy as np\n",
        "import pandas as pd\n",
        "import matplotlib.pyplot as plt"
      ]
    },
    {
      "cell_type": "markdown",
      "metadata": {},
      "source": [
        "### Load the data"
      ]
    },
    {
      "cell_type": "code",
      "execution_count": null,
      "metadata": {},
      "outputs": [],
      "source": [
        "origindata = pd.read_csv(\"공대7호관_HV_02.csv\")\n",
        "origindata.drop(['index'], axis=1, inplace=True)\n",
        "origindata.head()"
      ]
    },
    {
      "cell_type": "code",
      "execution_count": null,
      "metadata": {},
      "outputs": [],
      "source": [
        "from sklearn.impute import SimpleImputer\n",
        "\n",
        "def fill_0_energy_with_mean(data: pd.DataFrame):\n",
        "    \n",
        "    energy = data['energy'].values\n",
        "    energy[energy == 0] = np.nan\n",
        "    imputer = SimpleImputer(missing_values=np.nan, strategy='mean')\n",
        "    energy = imputer.fit_transform(energy.reshape(-1, 1))\n",
        "    data['energy'] = energy\n",
        "\n",
        "    return data"
      ]
    },
    {
      "cell_type": "code",
      "execution_count": null,
      "metadata": {},
      "outputs": [],
      "source": [
        "processed_data = fill_0_energy_with_mean(origindata)\n",
        "processed_data['energy'].isnull().values.any()\n",
        "# check nan"
      ]
    },
    {
      "cell_type": "markdown",
      "metadata": {},
      "source": [
        "### Get features and labels"
      ]
    },
    {
      "cell_type": "code",
      "execution_count": null,
      "metadata": {},
      "outputs": [],
      "source": [
        "features = processed_data[['temperatures(C)', 'humidity(%)', 'pressure(hPa)']]"
      ]
    },
    {
      "cell_type": "markdown",
      "metadata": {},
      "source": [
        "### Train Model"
      ]
    },
    {
      "cell_type": "code",
      "execution_count": null,
      "metadata": {},
      "outputs": [],
      "source": [
        "import matplotlib.pyplot as plt\n",
        "from sklearn.gaussian_process import GaussianProcessRegressor\n",
        "from sklearn.gaussian_process.kernels import RBF, Matern, ExpSineSquared, Exponentiation, Product\n",
        "\n",
        "'''\n",
        "#######\n",
        "Order: Kernel(xx)-Hyperparameters-Train range-Test range\n",
        "RBF : 01\n",
        "Matern: 02\n",
        "ExpSineSquared : 03\n",
        "Exponentiation : 04\n",
        "Constant : 05\n",
        "Product: 06\n",
        "\n",
        "ls: length_scale\n",
        "p: periodicity\n",
        "\n",
        "tr: train\n",
        "ts: test\n",
        "#######\n",
        "'''\n",
        "\n",
        "processed_data['date'] = pd.to_datetime(processed_data['date'])\n",
        "\n",
        "# Compute hours\n",
        "hours = (processed_data['date'] - processed_data['date'].min()).dt.total_seconds() / 3600\n",
        "\n",
        "# Train data\n",
        "train_x_indices = list(range(1, 1000))\n",
        "train_x = features.iloc[train_x_indices].values  # Reshape for compatibility\n",
        "train_y = processed_data[\"energy\"].iloc[train_x_indices].values\n",
        "\n",
        "# kernel = 1 * RBF(length_scale=1.0, length_scale_bounds=(1e-2, 1e2))\n",
        "kernel = ExpSineSquared(periodicity=100)+Matern(nu=1.5)\n",
        "print(kernel.bounds)\n",
        "print(kernel.n_dims)\n",
        "print(kernel.theta)\n",
        "gaussian_process = GaussianProcessRegressor(kernel=kernel, n_restarts_optimizer=9)\n",
        "gaussian_process.fit(train_x, train_y)"
      ]
    },
    {
      "cell_type": "markdown",
      "metadata": {},
      "source": [
        "### Predictions"
      ]
    },
    {
      "cell_type": "code",
      "execution_count": null,
      "metadata": {},
      "outputs": [],
      "source": [
        "test_x_indices = list(range(990, 1100))\n",
        "test_x = features.iloc[test_x_indices].values\n",
        "test_y = processed_data[\"energy\"].iloc[test_x_indices].values\n",
        "\n",
        "mean_prediction, std_prediction = gaussian_process.predict(test_x, return_std=True)"
      ]
    },
    {
      "cell_type": "markdown",
      "metadata": {},
      "source": [
        "### Plot"
      ]
    },
    {
      "cell_type": "code",
      "execution_count": null,
      "metadata": {},
      "outputs": [],
      "source": [
        "plt.plot(test_x_indices, test_y, label=r\"$f(x)\", linestyle=\"dotted\")\n",
        "plt.scatter(train_x_indices, train_y, label=\"Observations\", s=1, color=\"red\")\n",
        "plt.plot(test_x_indices, mean_prediction, label=\"Mean prediction\")\n",
        "plt.fill_between(\n",
        "    test_x_indices,\n",
        "    mean_prediction - 1.96 * std_prediction,\n",
        "    mean_prediction + 1.96 * std_prediction,\n",
        "    alpha=0.5,\n",
        "    label=r\"95% confidence interval\",\n",
        ")\n",
        "plt.legend()\n",
        "plt.xlabel(\"$x$\")\n",
        "plt.ylabel(\"$f(x)$\")\n",
        "plt.title(\"Gaussian process regression on noise-free dataset\")\n",
        "\n",
        "# # Create 'experiments' folder if it doesn't exist\n",
        "# folder_path = \"experiments\"\n",
        "# if not os.path.exists(folder_path):\n",
        "#     os.makedirs(folder_path)\n",
        "\n",
        "# plt.savefig(os.path.join(folder_path,\"0302nu15p100tr110000ts999010100.png\"), dpi=300)\n",
        "\n",
        "plt.show()"
      ]
    },
    {
      "cell_type": "markdown",
      "metadata": {},
      "source": [
        "# An's code"
      ]
    },
    {
      "cell_type": "code",
      "execution_count": null,
      "metadata": {
        "id": "axQuWCdbKu1c"
      },
      "outputs": [],
      "source": [
        "# environment: ts\n",
        "\n",
        "class cleanData:\n",
        "    def __init__(self, data):\n",
        "        self.origindata = data\n",
        "        self.electdata = self.origindata.copy()\n",
        "\n",
        "    def check_and_handle_zero_energy_values(self, energy_column_name):\n",
        "        # Check if values in the energy column are equal to 0\n",
        "        zero_energy_rows = self.electdata[self.electdata[energy_column_name] == 0]\n",
        "        if zero_energy_rows.empty: print (\"Dataset doesnt contains zero value\")\n",
        "        else:\n",
        "            print (\"Dataset contains zero value\")\n",
        "            self.zero_dataframe = self.create_zero_energy_dataframe(energy_column_name)\n",
        "            self.delete_zero_energy_row(energy_column_name)\n",
        "\n",
        "    def delete_zero_energy_row (self, energy_column_name):\n",
        "        # Delete rows with zero energy\n",
        "        self.electdata = self.electdata[self.electdata[energy_column_name] != 0]\n",
        "\n",
        "    def print_zero_energy_row (self, energy_column_name):\n",
        "        zero_energy_rows = self.electdata[self.electdata[energy_column_name] == 0]\n",
        "        if not zero_energy_rows.empty:\n",
        "            print(\"Rows with zero energy:\")\n",
        "            print(zero_energy_rows)\n",
        "\n",
        "    def create_zero_energy_dataframe(self, energy_column_name):\n",
        "        # Create a new DataFrame that stores zero values\n",
        "        zero_energy_rows = self.electdata[self.electdata[energy_column_name] == 0]\n",
        "        if not zero_energy_rows.empty:\n",
        "            return zero_energy_rows.copy()\n",
        "\n",
        "    def return_copy_of_handled_dataset (self):\n",
        "        return self.electdata.copy()\n",
        "\n",
        "# # Read in the file content in a DataFrame called electdata\n",
        "# origindata = pd.read_csv(\"공대7호관_HV_02.csv\")\n",
        "#\n",
        "# checker = cleanData(origindata)\n",
        "# column_name = 'energy'\n",
        "# zero_value_data = checker.check_and_handle_zero_energy_values(column_name)\n",
        "# print (checker.electdata)\n",
        "# print (\"zero value\\n\",checker.zero_dataframe)\n",
        "# print (\"origindata\\n\",origindata)\n"
      ]
    },
    {
      "cell_type": "code",
      "execution_count": null,
      "metadata": {
        "colab": {
          "base_uri": "https://localhost:8080/"
        },
        "id": "Eqxk-i0yKnDn",
        "outputId": "d69bf31e-3667-4407-a7be-84ac5e22e7cc"
      },
      "outputs": [],
      "source": [
        "import numpy as np\n",
        "import pandas as pd\n",
        "import matplotlib.pyplot as plt\n",
        "#from dataProcessing import cleanData\n",
        "import os\n",
        "\n",
        "origindata = pd.read_csv(\"공대7호관_HV_02.csv\")\n",
        "\n",
        "\n",
        "checker = cleanData(origindata)\n",
        "column_name = 'energy'\n",
        "zero_value_data = checker.check_and_handle_zero_energy_values(column_name)\n",
        "processing_dataset = checker.return_copy_of_handled_dataset()\n",
        "\n",
        "processing_dataset['datetime_column'] = pd.to_datetime(processing_dataset['date'])\n",
        "print (processing_dataset)\n",
        "\n",
        "# Compute hours\n",
        "hours = (processing_dataset['datetime_column'] - processing_dataset['datetime_column'].min()).dt.total_seconds() / 3600\n",
        "\n",
        "# Train data\n",
        "train_x_indices = list(range(1, 10000))\n",
        "feature1 = hours.iloc[train_x_indices].values.reshape(-1, 1)  # Reshape for compatibility\n",
        "# tensor_datetime_feature1 = torch.tensor(hours,dtype=torch.float32)\n",
        "# feature1 = tensor_datetime_feature1[train_x_indices] #hour\n",
        "\n",
        "train_y = processing_dataset[\"energy\"].iloc[train_x_indices].values\n",
        "\n",
        "test_x_indices = list(range(9990, 10100))\n",
        "test_feature1 = hours.iloc[test_x_indices].values.reshape(-1, 1)\n",
        "test_y = processing_dataset[\"energy\"].iloc[test_x_indices].values\n",
        "\n",
        "train_x = feature1\n",
        "test_x = test_feature1\n",
        "\n",
        "\n",
        "import matplotlib.pyplot as plt\n",
        "\n",
        "# plt.plot(train_x, train_y, label=r\"$f(x) = data function\", linestyle=\"dotted\")\n",
        "# plt.legend()\n",
        "# plt.xlabel(\"$x$\")\n",
        "# plt.ylabel(\"$f(x)$\")\n",
        "# _ = plt.title(\"True generative process\")\n",
        "#plt.show()\n",
        "\n",
        "from sklearn.gaussian_process import GaussianProcessRegressor\n",
        "from sklearn.gaussian_process.kernels import RBF, Matern, ExpSineSquared, Exponentiation, Product\n",
        "\n",
        "'''\n",
        "#######\n",
        "Order: Kernel(xx)-Hyperparameters-Train range-Test range\n",
        "RBF : 01\n",
        "Matern: 02\n",
        "ExpSineSquared : 03\n",
        "Exponentiation : 04\n",
        "Constant : 05\n",
        "Product: 06\n",
        "\n",
        "\n",
        "ls: length_scale\n",
        "p: periodicity\n",
        "\n",
        "\n",
        "tr: train\n",
        "ts: test\n",
        "#######\n",
        "'''\n",
        "\n",
        "# kernel = 1 * RBF(length_scale=1.0, length_scale_bounds=(1e-2, 1e2))\n",
        "kernel = ExpSineSquared(periodicity=100)+Matern(nu=1.5)\n",
        "print(kernel.bounds)\n",
        "print(kernel.n_dims)\n",
        "print(kernel.theta)\n",
        "gaussian_process = GaussianProcessRegressor(kernel=kernel, n_restarts_optimizer=9)\n",
        "gaussian_process.fit(train_x, train_y)\n",
        "\n",
        "mean_prediction, std_prediction = gaussian_process.predict(test_x, return_std=True)\n",
        "\n",
        "plt.plot(test_x, test_y, label=r\"$f(x)\", linestyle=\"dotted\")\n",
        "plt.scatter(train_x, train_y, label=\"Observations\")\n",
        "plt.plot(test_x, mean_prediction, label=\"Mean prediction\")\n",
        "plt.fill_between(\n",
        "    test_x.ravel(),\n",
        "    mean_prediction - 1.96 * std_prediction,\n",
        "    mean_prediction + 1.96 * std_prediction,\n",
        "    alpha=0.5,\n",
        "    label=r\"95% confidence interval\",\n",
        ")\n",
        "plt.legend()\n",
        "plt.xlabel(\"$x$\")\n",
        "plt.ylabel(\"$f(x)$\")\n",
        "_ = plt.title(\"Gaussian process regression on noise-free dataset\")\n",
        "\n",
        "# # Create 'experiments' folder if it doesn't exist\n",
        "# folder_path = \"experiments\"\n",
        "# if not os.path.exists(folder_path):\n",
        "#     os.makedirs(folder_path)\n",
        "\n",
        "# plt.savefig(os.path.join(folder_path,\"0302nu15p100tr110000ts999010100.png\"), dpi=300)\n",
        "\n",
        "# plt.show()"
      ]
    }
  ],
  "metadata": {
    "accelerator": "GPU",
    "colab": {
      "gpuType": "T4",
      "provenance": []
    },
    "kernelspec": {
      "display_name": "Python 3",
      "name": "python3"
    },
    "language_info": {
      "codemirror_mode": {
        "name": "ipython",
        "version": 3
      },
      "file_extension": ".py",
      "mimetype": "text/x-python",
      "name": "python",
      "nbconvert_exporter": "python",
      "pygments_lexer": "ipython3",
      "version": "3.9.13"
    }
  },
  "nbformat": 4,
  "nbformat_minor": 0
}
