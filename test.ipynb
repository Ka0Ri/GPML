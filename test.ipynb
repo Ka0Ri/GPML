{
 "cells": [
  {
   "cell_type": "code",
   "execution_count": 1,
   "metadata": {},
   "outputs": [],
   "source": [
    "# environment: ts\n",
    "\n",
    "from sklearn.impute import SimpleImputer, KNNImputer\n",
    "import numpy as np\n",
    "\n",
    "class cleanData:\n",
    "    def __init__(self, data):\n",
    "        self.origindata = data\n",
    "        self.electdata = data.copy()\n",
    "\n",
    "    def check_and_handle_zero_energy_values(self, energy_column_name):\n",
    "        # Check if values in the energy column are equal to 0\n",
    "        zero_energy_rows = self.electdata[self.electdata[energy_column_name] == 0]\n",
    "        if zero_energy_rows.empty:\n",
    "            print(\"Dataset doesnt contains zero value\")\n",
    "        else:\n",
    "            print(\"Dataset contains zero value\")\n",
    "            # self.zero_dataframe = self.create_zero_energy_dataframe(energy_column_name)\n",
    "            # self.delete_zero_energy_row(energy_column_name)\n",
    "            self.electdata[energy_column_name].replace(0.0, np.nan, inplace=True)\n",
    "            self.fill_0_energy_with_mean(energy_column_name)\n",
    "\n",
    "    def check_and_handle_NaN_values_in_X (self, column_name):\n",
    "        # Check if values in the energy column are equal to NaN\n",
    "        nan_value_row = self.electdata[self.electdata[column_name] == np.nan]\n",
    "        if nan_value_row.empty: print(\"Dataset doesnt contains NaN value\")\n",
    "        else:\n",
    "            print(\"Column contains NaN value\")\n",
    "            self.fill_nan_with_mean(column_name)\n",
    "\n",
    "    def fill_nan_with_mean(self, column_name):\n",
    "        energy = self.electdata[column_name].values\n",
    "        imputer = KNNImputer(missing_values=np.nan, n_neighbors=10)\n",
    "        # imputer = SimpleImputer(missing_values=np.nan, strategy='mean')\n",
    "        energy = imputer.fit_transform(energy.reshape(-1, 1))\n",
    "        self.electdata[column_name] = energy\n",
    "\n",
    "        return self.electdata\n",
    "\n",
    "    def delete_zero_energy_row(self, energy_column_name):\n",
    "        # Delete rows with zero energy\n",
    "        self.electdata = self.electdata[self.electdata[energy_column_name] != 0]\n",
    "\n",
    "    def print_zero_energy_row(self, energy_column_name):\n",
    "        zero_energy_rows = self.electdata[self.electdata[energy_column_name] == 0]\n",
    "        if not zero_energy_rows.empty:\n",
    "            print(\"Rows with zero energy:\")\n",
    "            print(zero_energy_rows)\n",
    "\n",
    "    def create_zero_energy_dataframe(self, energy_column_name):\n",
    "        # Create a new DataFrame that stores zero values\n",
    "        zero_energy_rows = self.electdata[self.electdata[energy_column_name] == 0]\n",
    "        if not zero_energy_rows.empty:\n",
    "            return zero_energy_rows.copy()\n",
    "\n",
    "    def return_copy_of_handled_dataset(self):\n",
    "        return self.electdata.copy()\n",
    "\n",
    "    def fill_0_energy_with_mean(self, energy_column_name):\n",
    "        energy = self.electdata[energy_column_name].values\n",
    "        # imputer = SimpleImputer(missing_values=np.nan, strategy='mean')\n",
    "        imputer = KNNImputer(missing_values=np.nan, n_neighbors=2)\n",
    "        energy = imputer.fit_transform(energy.reshape(-1, 1))\n",
    "        self.electdata[energy_column_name] = energy\n",
    "        \n",
    "\n"
   ]
  },
  {
   "cell_type": "code",
   "execution_count": 21,
   "metadata": {},
   "outputs": [],
   "source": [
    "from sklearn.impute import KNNImputer\n",
    "\n",
    "def fill_0_energy_with_mean(electdata, energy_column_name):\n",
    "    \n",
    "    electdata[energy_column_name].replace(0, np.nan, inplace=True)\n",
    "    energy = electdata[energy_column_name].values\n",
    "    imputer = KNNImputer(missing_values=np.nan, n_neighbors=2)\n",
    "    energy = imputer.fit_transform(energy.reshape(-1, 1))\n",
    "    print(energy)\n",
    "    # electdata[energy_column_name] = energy\n",
    "\n",
    "    return electdata"
   ]
  },
  {
   "cell_type": "code",
   "execution_count": 28,
   "metadata": {},
   "outputs": [],
   "source": [
    "\n",
    "def fill_0_energy_with_interpolate(electdata, energy_column_name):\n",
    "    \n",
    "    electdata[energy_column_name].replace(0, np.nan, inplace=True)\n",
    "    energy = electdata[energy_column_name].values\n",
    "   \n",
    "    mask = np.isnan(energy)\n",
    "    energy[mask] = np.interp(np.flatnonzero(mask), np.flatnonzero(~mask), energy[~mask])\n",
    "    electdata[energy_column_name] = energy\n",
    "\n",
    "    return electdata\n"
   ]
  },
  {
   "cell_type": "code",
   "execution_count": 24,
   "metadata": {},
   "outputs": [],
   "source": [
    "from sklearn.impute import SimpleImputer\n",
    "\n",
    "def fill_0_energy_with_simple_mean(electdata, energy_column_name):\n",
    "    \n",
    "    electdata[energy_column_name].replace(0, np.nan, inplace=True)\n",
    "    energy = electdata[energy_column_name].values\n",
    "    imputer = SimpleImputer(missing_values=np.nan, strategy='mean')\n",
    "    \n",
    "    energy = imputer.fit_transform(energy.reshape(-1, 1))\n",
    "    print(energy)\n",
    "    # electdata[energy_column_name] = energy\n",
    "\n",
    "    return electdata"
   ]
  },
  {
   "cell_type": "code",
   "execution_count": 30,
   "metadata": {},
   "outputs": [
    {
     "name": "stdout",
     "output_type": "stream",
     "text": [
      "energy    202.733\n",
      "dtype: float64\n"
     ]
    },
    {
     "data": {
      "text/html": [
       "<div>\n",
       "<style scoped>\n",
       "    .dataframe tbody tr th:only-of-type {\n",
       "        vertical-align: middle;\n",
       "    }\n",
       "\n",
       "    .dataframe tbody tr th {\n",
       "        vertical-align: top;\n",
       "    }\n",
       "\n",
       "    .dataframe thead th {\n",
       "        text-align: right;\n",
       "    }\n",
       "</style>\n",
       "<table border=\"1\" class=\"dataframe\">\n",
       "  <thead>\n",
       "    <tr style=\"text-align: right;\">\n",
       "      <th></th>\n",
       "      <th>energy</th>\n",
       "    </tr>\n",
       "  </thead>\n",
       "  <tbody>\n",
       "    <tr>\n",
       "      <th>0</th>\n",
       "      <td>216.6990</td>\n",
       "    </tr>\n",
       "    <tr>\n",
       "      <th>1</th>\n",
       "      <td>226.0820</td>\n",
       "    </tr>\n",
       "    <tr>\n",
       "      <th>2</th>\n",
       "      <td>243.9130</td>\n",
       "    </tr>\n",
       "    <tr>\n",
       "      <th>3</th>\n",
       "      <td>254.2555</td>\n",
       "    </tr>\n",
       "    <tr>\n",
       "      <th>4</th>\n",
       "      <td>264.5980</td>\n",
       "    </tr>\n",
       "    <tr>\n",
       "      <th>5</th>\n",
       "      <td>238.3860</td>\n",
       "    </tr>\n",
       "    <tr>\n",
       "      <th>6</th>\n",
       "      <td>222.9010</td>\n",
       "    </tr>\n",
       "    <tr>\n",
       "      <th>7</th>\n",
       "      <td>209.2850</td>\n",
       "    </tr>\n",
       "  </tbody>\n",
       "</table>\n",
       "</div>"
      ],
      "text/plain": [
       "     energy\n",
       "0  216.6990\n",
       "1  226.0820\n",
       "2  243.9130\n",
       "3  254.2555\n",
       "4  264.5980\n",
       "5  238.3860\n",
       "6  222.9010\n",
       "7  209.2850"
      ]
     },
     "execution_count": 30,
     "metadata": {},
     "output_type": "execute_result"
    }
   ],
   "source": [
    "import pandas as pd\n",
    "import numpy as np\n",
    "\n",
    "energy = np.array([216.699, 226.082,  243.913, np.nan, 264.598, 238.386, 222.901, 209.285])\n",
    "energy = pd.DataFrame(energy, columns=['energy'])\n",
    "print(energy.sum() / len(energy))\n",
    "fill_0_energy_with_interpolate(energy, 'energy')\n",
    "\n",
    "energy.sum() / len(energy)\n",
    "energy"
   ]
  },
  {
   "cell_type": "code",
   "execution_count": 26,
   "metadata": {},
   "outputs": [
    {
     "name": "stdout",
     "output_type": "stream",
     "text": [
      "energy    202.733\n",
      "dtype: float64\n",
      "[[216.699     ]\n",
      " [226.082     ]\n",
      " [243.913     ]\n",
      " [231.69485714]\n",
      " [264.598     ]\n",
      " [238.386     ]\n",
      " [222.901     ]\n",
      " [209.285     ]]\n"
     ]
    },
    {
     "data": {
      "text/plain": [
       "energy    202.733\n",
       "dtype: float64"
      ]
     },
     "execution_count": 26,
     "metadata": {},
     "output_type": "execute_result"
    }
   ],
   "source": [
    "import pandas as pd\n",
    "import numpy as np\n",
    "\n",
    "energy = np.array([216.699, 226.082,  243.913, np.nan, 264.598, 238.386, 222.901, 209.285])\n",
    "energy = pd.DataFrame(energy, columns=['energy'])\n",
    "print(energy.sum() / len(energy))\n",
    "fill_0_energy_with_simple_mean(energy, 'energy')\n",
    "\n",
    "energy.sum() / len(energy)"
   ]
  },
  {
   "cell_type": "code",
   "execution_count": 4,
   "metadata": {},
   "outputs": [
    {
     "data": {
      "text/plain": [
       "[<matplotlib.lines.Line2D at 0x7f4733a61dd0>]"
      ]
     },
     "execution_count": 4,
     "metadata": {},
     "output_type": "execute_result"
    },
    {
     "data": {
      "image/png": "[encoded data removed]",
      "text/plain": [
       "<Figure size 640x480 with 1 Axes>"
      ]
     },
     "metadata": {},
     "output_type": "display_data"
    }
   ],
   "source": [
    "import pandas as pd\n",
    "import matplotlib.pyplot as plt\n",
    "\n",
    "column_name = 'energy'\n",
    "# checker.check_and_handle_zero_energy_values(column_name)\n",
    "# processing_dataset = checker.return_copy_of_handled_dataset()\n",
    "origindata = pd.read_csv(\"공대7호관_HV_02.csv\")\n",
    "data = origindata.copy()\n",
    "processing_dataset = fill_0_energy_with_mean(data, column_name)\n",
    "\n",
    "\n",
    "processing_dataset['datetime'] = pd.to_datetime(processing_dataset['date'])\n",
    "processing_dataset['day'] = processing_dataset['datetime'].dt.date\n",
    "\n",
    "\n",
    "index_range=range(60, 100)\n",
    "plt.plot(processing_dataset.iloc[index_range]['datetime'], processing_dataset.iloc[index_range]['energy'])"
   ]
  },
  {
   "cell_type": "code",
   "execution_count": 33,
   "metadata": {},
   "outputs": [
    {
     "ename": "NameError",
     "evalue": "name 'fill_0_energy_with_interpolate' is not defined",
     "output_type": "error",
     "traceback": [
      "\u001b[0;31m---------------------------------------------------------------------------\u001b[0m",
      "\u001b[0;31mNameError\u001b[0m                                 Traceback (most recent call last)",
      "Cell \u001b[0;32mIn[33], line 59\u001b[0m\n\u001b[1;32m     55\u001b[0m column_name \u001b[38;5;241m=\u001b[39m \u001b[38;5;124m'\u001b[39m\u001b[38;5;124menergy\u001b[39m\u001b[38;5;124m'\u001b[39m\n\u001b[1;32m     56\u001b[0m \u001b[38;5;66;03m# checker.check_and_handle_zero_energy_values(column_name)\u001b[39;00m\n\u001b[1;32m     57\u001b[0m \u001b[38;5;66;03m# processing_dataset = checker.return_copy_of_handled_dataset()\u001b[39;00m\n\u001b[0;32m---> 59\u001b[0m processing_dataset \u001b[38;5;241m=\u001b[39m fill_0_energy_with_interpolate(origindata\u001b[38;5;241m.\u001b[39mcopy(), column_name)\n\u001b[1;32m     62\u001b[0m processing_dataset[\u001b[38;5;124m'\u001b[39m\u001b[38;5;124mdatetime\u001b[39m\u001b[38;5;124m'\u001b[39m] \u001b[38;5;241m=\u001b[39m pd\u001b[38;5;241m.\u001b[39mto_datetime(processing_dataset[\u001b[38;5;124m'\u001b[39m\u001b[38;5;124mdate\u001b[39m\u001b[38;5;124m'\u001b[39m])\n\u001b[1;32m     63\u001b[0m processing_dataset[\u001b[38;5;124m'\u001b[39m\u001b[38;5;124mday\u001b[39m\u001b[38;5;124m'\u001b[39m] \u001b[38;5;241m=\u001b[39m processing_dataset[\u001b[38;5;124m'\u001b[39m\u001b[38;5;124mdatetime\u001b[39m\u001b[38;5;124m'\u001b[39m]\u001b[38;5;241m.\u001b[39mdt\u001b[38;5;241m.\u001b[39mdate\n",
      "\u001b[0;31mNameError\u001b[0m: name 'fill_0_energy_with_interpolate' is not defined"
     ]
    }
   ],
   "source": [
    "# environment: ts\n",
    "\n",
    "import pandas as pd\n",
    "import matplotlib.pyplot as plt\n",
    "\n",
    "origindata = pd.read_csv(\"공대7호관_HV_02.csv\")\n",
    "\n",
    "def check_nan_values(data, column_name):\n",
    "    # Calculate the total number of NaN values in the specified column\n",
    "    total_nan_values = data[column_name].isna().sum()\n",
    "\n",
    "    # Calculate the percentage of NaN values\n",
    "    percentage_nan = (total_nan_values / len(data)) * 100\n",
    "\n",
    "    # Get the indices of NaN values\n",
    "    nan_indices = data[data[column_name].isna()].index.tolist()\n",
    "\n",
    "    print(f\"Total NaN values in {column_name}: {total_nan_values}\")\n",
    "    print(f\"Percentage of NaN values: {percentage_nan:.3f}%\")\n",
    "\n",
    "    return percentage_nan, nan_indices\n",
    "\n",
    "def plot_data_trend(data, column_name, datetime_column='date', index_range=None):\n",
    "    # Ensure data[datetime_column] is in datetime format if it's specified and exists\n",
    "    if datetime_column in data.columns and datetime_column:\n",
    "        data[datetime_column] = pd.to_datetime(data[datetime_column])\n",
    "\n",
    "    # If index_range is specified, filter the data accordingly using iloc for position-based indexing\n",
    "    if index_range is not None:\n",
    "        start, end = index_range\n",
    "        filtered_data = data.iloc[start:end + 1]  # +1 to include the end index\n",
    "    else:\n",
    "        filtered_data = data\n",
    "\n",
    "    # Plotting\n",
    "    plt.figure(figsize=(15, 7))\n",
    "    # Using datetime_column for the x-axis if specified, else default to DataFrame's index\n",
    "    x_axis = filtered_data[datetime_column] if datetime_column in filtered_data.columns else filtered_data.index\n",
    "\n",
    "    plt.plot(x_axis, filtered_data[column_name], label=column_name, marker='o', linestyle='-', markersize=5)\n",
    "    plt.title(f\"Trend of {column_name} over Time\")\n",
    "    plt.xlabel(\"Datetime\" if datetime_column in filtered_data.columns else \"Index\")\n",
    "    plt.ylabel(column_name)\n",
    "    plt.legend()\n",
    "    plt.xticks(rotation=45)\n",
    "    plt.tight_layout()\n",
    "    plt.grid(True)  # Optional: Adds a grid for better readability\n",
    " #   plt.show()\n",
    "\n",
    "\n",
    "#######\n",
    "# import dataProcessing\n",
    "\n",
    "# checker = cleanData(origindata)\n",
    "column_name = 'energy'\n",
    "# checker.check_and_handle_zero_energy_values(column_name)\n",
    "# processing_dataset = checker.return_copy_of_handled_dataset()\n",
    "\n",
    "processing_dataset = fill_0_energy_with_interpolate(origindata.copy(), column_name)\n",
    "\n",
    "\n",
    "processing_dataset['datetime'] = pd.to_datetime(processing_dataset['date'])\n",
    "processing_dataset['day'] = processing_dataset['datetime'].dt.date\n",
    "\n",
    "print (\"len data: \",len(processing_dataset))\n",
    "# Example usage of check_nan_values function\n",
    "percentage_nan, nan_indices = check_nan_values(processing_dataset, column_name)\n",
    "print(f\"NaN indices in column_name column: {nan_indices}\")\n",
    "\n",
    "\n",
    "# plot_data_trend(origindata, 'temperatures(C)', datetime_column='date')\n",
    "plot_data_trend(processing_dataset, column_name, datetime_column='date', index_range=(60, 100))\n",
    "plot_data_trend(origindata, column_name, datetime_column='date', index_range=(60, 100))\n",
    "plt.show()\n"
   ]
  }
 ],
 "metadata": {
  "kernelspec": {
   "display_name": "base",
   "language": "python",
   "name": "python3"
  },
  "language_info": {
   "codemirror_mode": {
    "name": "ipython",
    "version": 3
   },
   "file_extension": ".py",
   "mimetype": "text/x-python",
   "name": "python",
   "nbconvert_exporter": "python",
   "pygments_lexer": "ipython3",
   "version": "3.11.5"
  }
 },
 "nbformat": 4,
 "nbformat_minor": 2
}
